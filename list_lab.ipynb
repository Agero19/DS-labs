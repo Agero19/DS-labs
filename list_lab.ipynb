{
 "cells": [
  {
   "cell_type": "markdown",
   "metadata": {},
   "source": [
    "## Exercice 1 – Première liste"
   ]
  },
  {
   "cell_type": "code",
   "execution_count": null,
   "metadata": {},
   "outputs": [],
   "source": [
    "import random\n",
    "from matplotlib import pyplot\n",
    "\n",
    "\n",
    "liste = [5, 2, 10, 1, 2, 3, 6, 8, 1, 0, 9, 5, 9, 5, 3, 6, 0, 8, 1]\n"
   ]
  },
  {
   "cell_type": "code",
   "execution_count": 9,
   "metadata": {},
   "outputs": [
    {
     "name": "stdout",
     "output_type": "stream",
     "text": [
      "Version avec for val in liste:\n",
      "0 : 1\n",
      "1 : 8\n",
      "2 : 0\n",
      "3 : 6\n",
      "4 : 3\n",
      "5 : 5\n",
      "6 : 9\n",
      "7 : 5\n",
      "8 : 9\n",
      "9 : 0\n",
      "10 : 1\n",
      "11 : 8\n",
      "12 : 6\n",
      "13 : 3\n",
      "14 : 2\n",
      "15 : 1\n",
      "16 : 10\n",
      "17 : 2\n",
      "18 : 5\n"
     ]
    }
   ],
   "source": [
    "\n",
    "# 1. Afficher la liste à l’envers avec une boucle for\n",
    "print(\"Version avec for val in liste:\")\n",
    "rev_liste = reversed(liste)\n",
    "for idx, val in enumerate(rev_liste):\n",
    "    print(f\"{idx} : {val}\")\n",
    "\n"
   ]
  },
  {
   "cell_type": "code",
   "execution_count": 18,
   "metadata": {},
   "outputs": [
    {
     "name": "stdout",
     "output_type": "stream",
     "text": [
      "\n",
      "Version avec for i in range:\n",
      "18 : 1\n",
      "17 : 8\n",
      "16 : 0\n",
      "15 : 6\n",
      "14 : 3\n",
      "13 : 5\n",
      "12 : 9\n",
      "11 : 5\n",
      "10 : 9\n",
      "9 : 0\n",
      "8 : 1\n",
      "7 : 8\n",
      "6 : 6\n",
      "5 : 3\n",
      "4 : 2\n",
      "3 : 1\n",
      "2 : 10\n",
      "1 : 2\n",
      "0 : 5\n"
     ]
    }
   ],
   "source": [
    "\n",
    "\n",
    "print(\"\\nVersion avec for i in range:\")\n",
    "for i in range(-1, -len(liste) - 1, -1):\n",
    "    print(f\"{len(liste) + i} : {liste[i]}\")\n",
    "\n",
    "    \n"
   ]
  },
  {
   "cell_type": "code",
   "execution_count": 10,
   "metadata": {},
   "outputs": [
    {
     "name": "stdout",
     "output_type": "stream",
     "text": [
      "\n",
      "Nombre de multiples de 3 : 8\n"
     ]
    }
   ],
   "source": [
    "\n",
    "# 2. Nombre de multiples de 3\n",
    "multiples_3 = sum(1 for val in liste if val % 3 == 0)\n",
    "print(f\"\\nNombre de multiples de 3 : {multiples_3}\")\n",
    "\n"
   ]
  },
  {
   "cell_type": "code",
   "execution_count": 22,
   "metadata": {},
   "outputs": [
    {
     "name": "stdout",
     "output_type": "stream",
     "text": [
      "Max des indices pairs : 10, Min des indices pairs : 0\n"
     ]
    }
   ],
   "source": [
    "\n",
    "\n",
    "# 3. Max et min des indices pairs\n",
    "values_at_even_indices = liste[::2]\n",
    "max_even = max(values_at_even_indices)\n",
    "min_even = min(values_at_even_indices)\n",
    "print(f\"Max des indices pairs : {max_even}, Min des indices pairs : {min_even}\")\n",
    "\n"
   ]
  },
  {
   "cell_type": "code",
   "execution_count": 11,
   "metadata": {},
   "outputs": [
    {
     "name": "stdout",
     "output_type": "stream",
     "text": [
      "Somme des valeurs paires : 42\n"
     ]
    }
   ],
   "source": [
    "\n",
    "\n",
    "# 4. Somme des valeurs paires\n",
    "sum_even = sum(val for val in liste if val % 2 == 0)\n",
    "print(f\"Somme des valeurs paires : {sum_even}\")\n",
    "\n"
   ]
  },
  {
   "cell_type": "code",
   "execution_count": 23,
   "metadata": {},
   "outputs": [
    {
     "name": "stdout",
     "output_type": "stream",
     "text": [
      "\n",
      "Liste inversée (slicing) : [1, 8, 0, 6, 3, 5, 9, 5, 9, 0, 1, 8, 6, 3, 2, 1, 10, 2, 5]\n",
      "Liste inversée (reversed) : [1, 8, 0, 6, 3, 5, 9, 5, 9, 0, 1, 8, 6, 3, 2, 1, 10, 2, 5]\n"
     ]
    }
   ],
   "source": [
    "\n",
    "\n",
    "# 5. Affichage de la liste à l’envers avec deux techniques\n",
    "envers1 = liste[::-1]\n",
    "envers2 = list(reversed(liste))\n",
    "print(f\"\\nListe inversée (slicing) : {envers1}\")\n",
    "print(f\"Liste inversée (reversed) : {envers2}\")\n",
    "\n"
   ]
  },
  {
   "cell_type": "code",
   "execution_count": 29,
   "metadata": {},
   "outputs": [
    {
     "name": "stdout",
     "output_type": "stream",
     "text": [
      "\n",
      "Liste avant permutation circulaire : [5, 2, 10, 1, 2, 3, 6, 8, 1, 0, 9, 5, 9, 5, 3, 6, 0, 8, 1]\n",
      "\n",
      "Liste après permutation circulaire : [1, 5, 2, 10, 1, 2, 3, 6, 8, 1, 0, 9, 5, 9, 5, 3, 6, 0, 8]\n",
      "\n",
      "Liste après permutation circulaire : [8, 1, 5, 2, 10, 1, 2, 3, 6, 8, 1, 0, 9, 5, 9, 5, 3, 6, 0]\n"
     ]
    }
   ],
   "source": [
    "\n",
    "\n",
    "# 6. Permutation circulaire\n",
    "permuted = [liste[-1]] + liste[:-1]\n",
    "permuted_again = [permuted[-1]] + permuted[:-1]\n",
    "print(f\"\\nListe avant permutation circulaire : {liste}\")\n",
    "print(f\"\\nListe après permutation circulaire : {permuted}\")\n",
    "print(f\"\\nListe après permutation circulaire : {permuted_again}\")\n",
    "\n"
   ]
  },
  {
   "cell_type": "code",
   "execution_count": 41,
   "metadata": {},
   "outputs": [
    {
     "name": "stdout",
     "output_type": "stream",
     "text": [
      "Histogramme des occurrences : {0: 87, 1: 88, 2: 98, 3: 97, 4: 87, 5: 87, 6: 87, 7: 89, 8: 93, 9: 99, 10: 88}\n"
     ]
    }
   ],
   "source": [
    "\n",
    "# 7. Histogramme des occurrences\n",
    "def histogram(l):\n",
    "    return {val: l.count(val) for val in set(l)}\n",
    "\n",
    "liste_random = [random.randint(0, 10) for _ in range(1000)]\n",
    "hist = histogram(liste_random)\n",
    "print(f\"Histogramme des occurrences : {hist}\")\n"
   ]
  },
  {
   "cell_type": "code",
   "execution_count": null,
   "metadata": {},
   "outputs": [
    {
     "data": {
      "image/png": "[encoded data removed]",
      "text/plain": [
       "<Figure size 640x480 with 1 Axes>"
      ]
     },
     "metadata": {},
     "output_type": "display_data"
    }
   ],
   "source": [
    "\n",
    "# 8. Affichage de l'histogramme avec matplotlib\n",
    "pyplot.hist(liste_random, range=(0, 11), bins=11, color='yellow', edgecolor='red')\n",
    "pyplot.xlabel('valeurs')\n",
    "pyplot.ylabel('nombres')\n",
    "pyplot.title(\"Exemple d'histogramme simple\")\n",
    "pyplot.show()\n"
   ]
  },
  {
   "cell_type": "markdown",
   "metadata": {},
   "source": [
    "-----"
   ]
  },
  {
   "cell_type": "markdown",
   "metadata": {},
   "source": [
    "# Ex 2"
   ]
  },
  {
   "cell_type": "code",
   "execution_count": 48,
   "metadata": {},
   "outputs": [],
   "source": [
    "# Exercice 2 – Palindromes\n",
    "def est_palindrome(chaine):\n",
    "    return chaine == chaine[::-1]\n",
    "\n",
    "def est_palindrome_sans_espaces(chaine):\n",
    "    chaine = chaine.replace(\" \", \"\")\n",
    "    return est_palindrome(chaine)\n",
    "\n"
   ]
  },
  {
   "cell_type": "code",
   "execution_count": 49,
   "metadata": {},
   "outputs": [
    {
     "name": "stdout",
     "output_type": "stream",
     "text": [
      "C'est un palindrome en tenant compte des espaces et ponctuations.\n",
      "C'est un palindrome en ignorant les espaces et ponctuations.\n"
     ]
    }
   ],
   "source": [
    "phrase = input(\"Entrez une phrase : \")\n",
    "if est_palindrome(phrase):\n",
    "    print(\"C'est un palindrome en tenant compte des espaces et ponctuations.\")\n",
    "else:\n",
    "    print(\"Ce n'est pas un palindrome en tenant compte des espaces et ponctuations.\")\n",
    "\n",
    "if est_palindrome_sans_espaces(phrase):\n",
    "    print(\"C'est un palindrome en ignorant les espaces et ponctuations.\")\n",
    "else:\n",
    "    print(\"Ce n'est pas un palindrome en ignorant les espaces et ponctuations.\")\n"
   ]
  },
  {
   "cell_type": "markdown",
   "metadata": {},
   "source": [
    "---"
   ]
  },
  {
   "cell_type": "markdown",
   "metadata": {},
   "source": [
    "# Ex 4"
   ]
  },
  {
   "cell_type": "code",
   "execution_count": 57,
   "metadata": {},
   "outputs": [],
   "source": [
    "\n",
    "\n",
    "def afficher_matrice(matrice):\n",
    "    for ligne in matrice:\n",
    "        print(\" \".join(f\"{val:2}\" for val in ligne ))\n",
    "\n",
    "def est_diagonale(matrice):\n",
    "    return all(matrice[i][j] == 0 for i in range(len(matrice)) for j in range(len(matrice[i])) if i != j)\n",
    "\n",
    "def est_symetrique(matrice):\n",
    "    return all(matrice[i][j] == matrice[j][i] for i in range(len(matrice)) for j in range(len(matrice[i])))\n",
    "\n",
    "def multiplication_vecteur(matrice, vecteur):\n",
    "    return [sum(matrice[i][j] * vecteur[j] for j in range(len(vecteur))) for i in range(len(matrice))]\n",
    "\n",
    "def multiplication_matrices(A, B):\n",
    "    if len(A[0]) != len(B):\n",
    "        raise ValueError(\"Multiplication impossible, dimensions incompatibles.\")\n",
    "    return [\n",
    "        [\n",
    "            sum(A[i][k] * B[k][j] for k in range(len(B))) \n",
    "            for j in range(len(B[0]))\n",
    "        ] for i in range(len(A))\n",
    "    ]"
   ]
  },
  {
   "cell_type": "code",
   "execution_count": 58,
   "metadata": {},
   "outputs": [
    {
     "name": "stdout",
     "output_type": "stream",
     "text": [
      "\n",
      "Matrice A:\n",
      " 2  8  9\n",
      " 5  7  6\n",
      " 4  2  4\n",
      "\n",
      "La matrice est diagonale: False\n",
      "La matrice est symétrique: False\n",
      "\n",
      "Multiplication de la matrice par le vecteur: [45, 37, 20]\n",
      "\n",
      "Multiplication de A par B:\n",
      "97 116 135\n",
      "75 93 111\n",
      "40 50 60\n"
     ]
    }
   ],
   "source": [
    "# Exercice 3 – Matrices\n",
    "A = [[2, 8, 9], [5, 7, 6], [4, 2, 4]]\n",
    "B = [[1, 2, 3], [4, 5, 6], [7, 8, 9]]\n",
    "vector = [1, 2, 3]\n",
    "\n",
    "print(\"\\nMatrice A:\")\n",
    "afficher_matrice(A)\n",
    "print(f\"\\nLa matrice est diagonale: {est_diagonale(A)}\")\n",
    "print(f\"La matrice est symétrique: {est_symetrique(A)}\")\n",
    "\n",
    "result_vector = multiplication_vecteur(A, vector)\n",
    "print(f\"\\nMultiplication de la matrice par le vecteur: {result_vector}\")\n",
    "\n",
    "try:\n",
    "    result_matrix = multiplication_matrices(A, B)\n",
    "    print(\"\\nMultiplication de A par B:\")\n",
    "    afficher_matrice(result_matrix)\n",
    "except ValueError as e:\n",
    "    print(e)"
   ]
  },
  {
   "cell_type": "markdown",
   "metadata": {},
   "source": [
    "# Ex 3"
   ]
  },
  {
   "cell_type": "code",
   "execution_count": 76,
   "metadata": {},
   "outputs": [
    {
     "name": "stdout",
     "output_type": "stream",
     "text": [
      "[5, 2, 10, 1, 2, 3, 6, 8, 1, 0, 9, 5, 9, 5, 3, 6, 0, 8, 1]\n",
      "{0, 1, 2, 3, 5, 6, 8, 9, 10}\n",
      "[2, 3, 2, 2, 3, 2, 2, 2, 1]\n"
     ]
    }
   ],
   "source": [
    "def lst_to_histogram(l):\n",
    "    return [l.count(val) for val in set(l)]\n",
    "\n",
    "print(liste)\n",
    "print(set(liste))\n",
    "print(lst_to_histogram(liste))"
   ]
  },
  {
   "cell_type": "code",
   "execution_count": 65,
   "metadata": {},
   "outputs": [
    {
     "name": "stdout",
     "output_type": "stream",
     "text": [
      "[4, 0, 4, 1, 2, 7, 2, 6, 1, 0, 6, 7, 0, 2, 1, 5, 9, 4, 8, 2, 1, 9, 0, 9, 8, 8, 8, 1, 8, 1, 1, 2, 3, 2, 6, 9, 3, 5, 3, 4, 5, 6, 0, 0, 4, 6, 4, 5, 1, 8, 6, 2, 0, 3, 5, 5, 5, 7, 3, 8, 2, 4, 0, 5, 3, 8, 1, 0, 9, 8, 3, 2, 6, 4, 1, 7, 8, 9, 3, 2, 1, 8, 7, 9, 9, 2, 3, 5, 2, 7, 9, 7, 5, 6, 6, 4, 8, 2, 9, 7, 7, 0, 1, 7, 7, 0, 4, 3, 0, 6, 7, 0, 5, 3, 8, 4, 9, 1, 6, 8, 9, 1, 3, 8, 7, 1, 9, 3, 5, 4, 4, 1, 9, 3, 6, 2, 7, 2, 7, 4, 0, 1, 6, 2, 6, 5, 3, 9, 8, 7, 4, 1, 2, 7, 0, 5, 6, 4, 6, 5, 4, 4, 3, 8, 8, 1, 6, 6, 1, 5, 3, 2, 2, 7, 0, 6, 2, 9, 9, 4, 9, 2, 5, 3, 5, 2, 2, 0, 0, 7, 6, 8, 9, 6, 3, 9, 6, 5, 7, 3, 1, 4, 8, 9, 0, 4, 1, 7, 2, 5, 0, 4, 9, 7, 0, 9, 3, 6, 7, 7, 6, 6, 1, 8, 4, 4, 9, 8, 3, 6, 8, 4, 1, 9, 5, 6, 2, 3, 9, 5, 4, 6, 4, 6, 1, 7, 4, 6, 7, 0, 2, 3, 0, 7, 6, 9, 7, 3, 0, 8, 6, 8, 8, 9, 2, 6, 4, 6, 7, 1, 2, 7, 0, 1, 7, 7, 7, 5, 9, 6, 5, 1, 8, 3, 2, 9, 0, 3, 0, 0, 3, 2, 7, 5, 9, 3, 5, 0, 2, 0, 9, 3, 2, 8, 7, 0, 1, 3, 1, 6, 2, 1, 5, 2, 1, 2, 8, 0, 4, 0, 7, 8, 6, 2, 0, 1, 7, 9, 3, 2, 0, 1, 1, 0, 8, 2, 3, 4, 5, 3, 4, 2, 3, 7, 0, 5, 4, 1, 0, 4, 4, 8, 7, 8, 6, 0, 4, 7, 8, 8, 4, 8, 0, 4, 9, 0, 3, 3, 6, 1, 0, 9, 1, 2, 7, 6, 7, 2, 0, 7, 4, 1, 1, 5, 4, 2, 8, 9, 2, 8, 7, 7, 9, 1, 7, 8, 5, 3, 0, 3, 4, 8, 2, 5, 4, 1, 0, 7, 9, 5, 7, 7, 0, 4, 1, 8, 6, 4, 3, 0, 8, 6, 8, 9, 0, 1, 6, 9, 0, 4, 0, 7, 6, 1, 0, 7, 1, 2, 8, 0, 9, 2, 6, 2, 4, 7, 1, 8, 6, 4, 2, 9, 5, 2, 3, 1, 3, 4, 3, 5, 6, 9, 9, 9, 4, 4, 3, 8, 6, 8, 7, 5, 7, 1, 4, 3, 7, 7, 4, 7, 4, 0, 0, 2, 9, 7, 6, 9, 4, 3, 9, 4, 3, 7, 2, 3, 5, 7, 6, 0, 0, 2, 8, 3, 4, 1, 1, 7, 8, 8, 1, 1, 5, 7, 2, 2, 7, 7, 2, 8, 7, 8, 7, 7, 4, 2, 7, 8, 2, 2, 8, 3, 2, 5, 8, 3, 9, 9, 0, 5, 7, 5, 0, 8, 7, 5, 3, 9, 9, 9, 6, 9, 7, 6, 5, 4, 3, 2, 4, 2, 0, 4, 5, 2, 7, 8, 8, 3, 4, 2, 5, 6, 4, 7, 3, 1, 0, 1, 5, 7, 6, 0, 3, 8, 6, 4, 4, 2, 5, 7, 4, 2, 2, 0, 8, 7, 7, 9, 0, 0, 9, 5, 9, 9, 2, 5, 7, 7, 4, 2, 9, 2, 3, 9, 3, 0, 2, 6, 0, 1, 9, 0, 3, 5, 6, 4, 6, 0, 5, 5, 8, 7, 4, 7, 4, 0, 2, 1, 8, 4, 8, 6, 7, 3, 9, 1, 9, 6, 9, 0, 8, 8, 5, 5, 2, 1, 0, 0, 9, 6, 6, 5, 4, 9, 1, 0, 3, 8, 0, 9, 1, 2, 7, 0, 2, 4, 3, 2, 7, 6, 1, 8, 8, 9, 8, 0, 7, 7, 1, 9, 2, 1, 0, 9, 1, 1, 0, 9, 9, 2, 5, 3, 3, 6, 6, 7, 7, 3, 9, 2, 2, 4, 0, 1, 3, 4, 9, 8, 7, 0, 8, 4, 2, 8, 9, 7, 0, 3, 3, 5, 0, 4, 4, 9, 2, 0, 7, 0, 7, 9, 9, 2, 5, 9, 5, 5, 9, 1, 5, 5, 9, 7, 2, 8, 0, 2, 3, 1, 5, 9, 4, 9, 4, 2, 2, 7, 8, 1, 8, 5, 1, 6, 2, 0, 3, 2, 9, 2, 9, 4, 4, 2, 9, 8, 7, 6, 1, 6, 0, 0, 6, 9, 1, 3, 6, 3, 7, 1, 0, 1, 2, 9, 5, 7, 1, 9, 7, 8, 0, 9, 9, 6, 8, 1, 5, 0, 8, 5, 4, 7, 9, 4, 5, 2, 7, 2, 6, 0, 6, 2, 7, 8, 8, 8, 6, 9, 0, 8, 9, 1, 8, 1, 3, 4, 2, 5, 2, 1, 3, 1, 8, 5, 5, 9, 3, 6, 0, 3, 6, 6, 5, 3, 8, 2, 4, 3, 0, 1, 7, 8, 8, 3, 0, 2, 5, 1, 4, 5, 9, 7, 9, 2, 3, 0, 8, 8, 9, 3, 1, 2, 3, 3, 2, 4, 4, 1, 1, 9, 7, 1, 6, 3, 7, 2, 0, 0, 0, 1, 7, 3, 1, 6, 0, 2, 9, 2, 9, 7, 0, 1, 9, 8, 9, 5, 4, 1, 3, 8, 7, 6, 1, 0, 2, 7, 2, 4, 8, 5, 8, 9, 4, 4, 3, 2, 4, 4, 4, 2, 0, 5, 2, 6, 5, 0, 2, 4, 6, 5, 5, 7, 9, 3, 1, 1, 1, 7, 9, 7, 6, 1, 3, 6, 9, 7, 9, 9, 0, 5, 6, 3, 8, 6, 6, 8, 0, 3, 5, 4, 2, 5, 8, 7, 9, 3, 2, 3, 4, 2, 8]\n"
     ]
    }
   ],
   "source": [
    "new_lst = []\n",
    "taille = 1000\n",
    "maximum = 9\n",
    "for i in range(1, taille):\n",
    "    new_lst.append(random.randint(0, maximum))\n",
    "print(new_lst)"
   ]
  },
  {
   "cell_type": "code",
   "execution_count": null,
   "metadata": {},
   "outputs": [
    {
     "ename": "AttributeError",
     "evalue": "module 'matplotlib' has no attribute 'hist'",
     "output_type": "error",
     "traceback": [
      "\u001b[0;31m---------------------------------------------------------------------------\u001b[0m",
      "\u001b[0;31mAttributeError\u001b[0m                            Traceback (most recent call last)",
      "Cell \u001b[0;32mIn[73], line 1\u001b[0m\n\u001b[0;32m----> 1\u001b[0m \u001b[43mplt\u001b[49m\u001b[38;5;241;43m.\u001b[39;49m\u001b[43mhist\u001b[49m(new_lst, \u001b[38;5;28mrange\u001b[39m \u001b[38;5;241m=\u001b[39m {\u001b[38;5;241m0\u001b[39m,\u001b[38;5;241m11\u001b[39m}, bins \u001b[38;5;241m=\u001b[39m \u001b[38;5;241m11\u001b[39m, color\u001b[38;5;241m=\u001b[39m\u001b[38;5;124m\"\u001b[39m\u001b[38;5;124myellow\u001b[39m\u001b[38;5;124m\"\u001b[39m, edgecolor\u001b[38;5;241m=\u001b[39m\u001b[38;5;124m\"\u001b[39m\u001b[38;5;124mred\u001b[39m\u001b[38;5;124m\"\u001b[39m)\n\u001b[1;32m      2\u001b[0m plt\u001b[38;5;241m.\u001b[39mxlabel(\u001b[38;5;124m'\u001b[39m\u001b[38;5;124mvaleurs\u001b[39m\u001b[38;5;124m'\u001b[39m)\n\u001b[1;32m      3\u001b[0m plt\u001b[38;5;241m.\u001b[39mylabel(\u001b[38;5;124m'\u001b[39m\u001b[38;5;124moccurences\u001b[39m\u001b[38;5;124m'\u001b[39m)\n",
      "File \u001b[0;32m/Library/Frameworks/Python.framework/Versions/3.12/lib/python3.12/site-packages/matplotlib/_api/__init__.py:218\u001b[0m, in \u001b[0;36mcaching_module_getattr.<locals>.__getattr__\u001b[0;34m(name)\u001b[0m\n\u001b[1;32m    216\u001b[0m \u001b[38;5;28;01mif\u001b[39;00m name \u001b[38;5;129;01min\u001b[39;00m props:\n\u001b[1;32m    217\u001b[0m     \u001b[38;5;28;01mreturn\u001b[39;00m props[name]\u001b[38;5;241m.\u001b[39m\u001b[38;5;21m__get__\u001b[39m(instance)\n\u001b[0;32m--> 218\u001b[0m \u001b[38;5;28;01mraise\u001b[39;00m \u001b[38;5;167;01mAttributeError\u001b[39;00m(\n\u001b[1;32m    219\u001b[0m     \u001b[38;5;124mf\u001b[39m\u001b[38;5;124m\"\u001b[39m\u001b[38;5;124mmodule \u001b[39m\u001b[38;5;132;01m{\u001b[39;00m\u001b[38;5;28mcls\u001b[39m\u001b[38;5;241m.\u001b[39m\u001b[38;5;18m__module__\u001b[39m\u001b[38;5;132;01m!r}\u001b[39;00m\u001b[38;5;124m has no attribute \u001b[39m\u001b[38;5;132;01m{\u001b[39;00mname\u001b[38;5;132;01m!r}\u001b[39;00m\u001b[38;5;124m\"\u001b[39m)\n",
      "\u001b[0;31mAttributeError\u001b[0m: module 'matplotlib' has no attribute 'hist'"
     ]
    }
   ],
   "source": [
    "pyplot.hist(new_lst, range = {0,11}, bins = 11, color=\"yellow\", edgecolor=\"red\")\n",
    "pyplot.xlabel('valeurs')\n",
    "pyplot.ylabel('occurences')\n",
    "pyplot.title(\"Exemple de histograme simple\")"
   ]
  },
  {
   "cell_type": "code",
   "execution_count": 78,
   "metadata": {},
   "outputs": [
    {
     "data": {
      "image/png": "[encoded data removed]",
      "text/plain": [
       "<Figure size 640x480 with 1 Axes>"
      ]
     },
     "metadata": {},
     "output_type": "display_data"
    }
   ],
   "source": [
    "\n",
    "pyplot.bar(range(maximum+1), lst_to_histogram(new_lst), color='yellow', edgecolor='red')\n",
    "pyplot.xlabel(\"Valeurs\")\n",
    "pyplot.ylabel(\"Nombre d'occurrences\")\n",
    "pyplot.title(\"Histogramme avec pyplot.bar\")\n",
    "pyplot.show()"
   ]
  },
  {
   "cell_type": "code",
   "execution_count": 80,
   "metadata": {},
   "outputs": [
    {
     "name": "stdout",
     "output_type": "stream",
     "text": [
      "Liste avec loi normale : [6, 5, 6, 5, 3, 5, 7, 4, 5, 4, 7, 7, 3, 3, 4, 3, 4, 3, 3, 3, 3, 4, 4, 4, 3, 4, 0, 5, 2, 4, 5, 4, 4, 4, 6, 6, 4, 7, 4, 2, 5, 4, 5, 1, 4, 3, 5, 4, 4, 1, 4, 5, 0, 5, 9, 3, 3, 5, 4, 7, 5, 4, 3, 8, 2, 8, 3, 4, 7, 7, 4, 5, 5, 4, 4, 3, 5, 4, 4, 4, 5, 4, 5, 6, 3, 3, 3, 4, 7, 8, 3, 4, 0, 4, 6, 6, 6, 3, 2, 5, 6, 5, 5, 4, 1, 7, 7, 5, 6, 7, 5, 0, 5, 6, 5, 2, 5, 8, 5, 4, 5, 3, 4, 7, 1, 2, 0, 5, 5, 1, 4, 5, 5, 3, 5, 3, 7, 7, 4, 5, 4, 3, 4, 5, 6, 4, 5, 1, 2, 5, 5, 5, 5, 0, 6, 1, 5, 1, 4, 5, 4, 5, 8, 4, 6, 3, 8, 9, 1, 7, 1, 4, 7, 4, 4, 3, 4, 6, 5, 5, 3, 6, 6, 5, 7, 5, 3, 8, 3, 4, 4, 6, 6, 2, 4, 4, 2, 3, 6, 2, 3, 5, 1, 2, 0, 6, 5, 7, 8, 6, 3, 7, 6, 6, 7, 4, 5, 3, 2, 7, 1, 1, 6, 5, 4, 6, 5, 7, 5, 6, 5, 0, 3, 7, 6, 5, 6, 8, 6, 3, 4, 2, 3, 1, 3, 4, 3, 7, 8, 6, 5, 6, 2, 2, 4, 2, 5, 6, 6, 1, 4, 2, 7, 4, 2, 3, 4, 4, 5, 2, 4, 4, 3, 6, 5, 7, 4, 3, 3, 3, 1, 5, 3, 5, 2, 6, 3, 6, 8, 7, 3, 6, 4, 5, 4, 2, 6, 0, 7, 6, 3, 2, 3, 4, 6, 6, 5, 6, 6, 3, 7, 6, 4, 4, 6, 5, 3, 2, 1, 5, 5, 2, 3, 0, 3, 5, 4, 2, 6, 5, 4, 3, 3, 5, 7, 2, 5, 8, 6, 3, 5, 8, 4, 7, 5, 4, 4, 3, 8, 3, 3, 1, 3, 5, 8, 8, 6, 4, 3, 5, 6, 8, 5, 4, 4, 5, 5, 5, 4, 3, 4, 5, 8, 6, 5, 8, 6, 5, 5, 4, 6, 5, 5, 6, 3, 4, 5, 7, 7, 4, 4, 3, 9, 3, 2, 5, 5, 5, 5, 4, 0, 4, 4, 1, 8, 4, 4, 3, 9, 4, 3, 3, 1, 4, 6, 6, 4, 8, 7, 4, 2, 2, 5, 5, 1, 3, 5, 9, 5, 5, 5, 9, 0, 7, 3, 5, 4, 2, 5, 0, 6, 4, 6, 3, 3, 4, 2, 6, 4, 5, 6, 6, 6, 5, 8, 6, 5, 4, 5, 6, 6, 5, 3, 4, 2, 3, 4, 4, 3, 7, 5, 8, 4, 2, 2, 3, 5, 6, 3, 2, 8, 7, 3, 6, 6, 0, 5, 5, 1, 8, 5, 6, 4, 5, 7, 1, 5, 6, 2, 5, 4, 2, 6, 7, 6, 6, 3, 8, 4, 6, 3, 6, 4, 4, 1, 7, 3, 8, 6, 7, 6, 7, 7, 6, 6, 3, 3, 7, 4, 8, 6, 2, 4, 4, 3, 5, 6, 3, 3, 2, 3, 3, 6, 5, 8, 2, 6, 5, 5, 7, 2, 4, 4, 5, 6, 3, 4, 4, 9, 6, 6, 5, 7, 3, 6, 3, 2, 5, 9, 4, 5, 5, 5, 3, 5, 2, 3, 5, 6, 6, 4, 7, 5, 2, 6, 5, 0, 3, 2, 1, 2, 4, 5, 4, 5, 4, 5, 2, 6, 5, 7, 4, 4, 4, 6, 7, 9, 5, 5, 2, 3, 5, 3, 5, 7, 2, 9, 3, 6, 5, 2, 4, 2, 4, 7, 4, 2, 7, 5, 4, 3, 7, 6, 2, 3, 7, 6, 4, 4, 3, 3, 5, 3, 3, 8, 0, 3, 6, 6, 6, 7, 4, 6, 7, 7, 3, 4, 6, 1, 4, 6, 6, 4, 5, 7, 4, 6, 3, 6, 4, 2, 7, 1, 7, 5, 3, 2, 6, 7, 3, 2, 8, 3, 5, 6, 2, 7, 4, 1, 1, 3, 6, 6, 6, 4, 5, 5, 6, 4, 4, 4, 5, 6, 1, 6, 9, 5, 3, 1, 6, 4, 5, 4, 4, 1, 7, 9, 2, 5, 0, 4, 4, 2, 5, 2, 5, 3, 5, 6, 8, 4, 5, 7, 3, 1, 5, 4, 6, 6, 4, 2, 6, 5, 6, 5, 4, 6, 9, 8, 5, 5, 4, 3, 1, 5, 5, 3, 0, 9, 6, 3, 6, 4, 4, 7, 5, 0, 7, 3, 2, 5, 6, 3, 4, 6, 1, 4, 1, 8, 3, 4, 5, 3, 6, 7, 3, 4, 4, 7, 2, 4, 3, 5, 2, 4, 5, 7, 0, 8, 3, 4, 9, 6, 4, 5, 4, 5, 4, 6, 2, 4, 6, 4, 3, 6, 7, 6, 7, 3, 5, 4, 4, 7, 3, 4, 6, 3, 2, 4, 5, 2, 4, 2, 6, 6, 4, 4, 3, 3, 6, 5, 8, 6, 3, 7, 4, 3, 3, 4, 7, 8, 7, 5, 5, 5, 6, 1, 3, 6, 2, 8, 5, 2, 3, 5, 6, 2, 7, 3, 3, 6, 9, 2, 3, 7, 5, 8, 5, 5, 5, 7, 5, 3, 3, 4, 6, 3, 6, 5, 2, 1, 3, 5, 6, 5, 7, 4, 5, 6, 5, 5, 3, 8, 2, 2, 4, 9, 6, 8, 5, 5, 3, 1, 3, 5, 5, 6, 3, 6, 5, 2, 6, 5, 5, 5, 3, 5, 7, 3, 5, 6, 4, 5, 9, 5, 0, 4, 8, 6, 3, 5, 6, 4, 4, 6, 4, 6, 7, 5, 8, 5, 7, 4, 5, 4, 5, 1, 7, 5, 3, 3, 7, 2, 5, 5, 6, 6, 4, 3, 3, 4, 5, 4, 3, 2, 5, 6, 4, 7, 4, 6, 4, 1, 5, 6, 0, 4]\n"
     ]
    }
   ],
   "source": [
    "mu, sigma = 5, 2  \n",
    "liste_gauss = [int(random.gauss(mu, sigma)) for _ in range(taille)]\n",
    "liste_gauss = [x for x in liste_gauss if 0 <= x <= maximum]  \n",
    "print(\"Liste avec loi normale :\", liste_gauss)"
   ]
  },
  {
   "cell_type": "code",
   "execution_count": 84,
   "metadata": {},
   "outputs": [
    {
     "data": {
      "text/plain": [
       "<function matplotlib.pyplot.ylabel(ylabel: 'str', fontdict: 'dict[str, Any] | None' = None, labelpad: 'float | None' = None, *, loc: \"Literal['bottom', 'center', 'top'] | None\" = None, **kwargs) -> 'Text'>"
      ]
     },
     "execution_count": 84,
     "metadata": {},
     "output_type": "execute_result"
    },
    {
     "data": {
      "image/png": "[encoded data removed]",
      "text/plain": [
       "<Figure size 640x480 with 1 Axes>"
      ]
     },
     "metadata": {},
     "output_type": "display_data"
    }
   ],
   "source": [
    "histogramme_gauss = [0] * (maximum + 1)\n",
    "for nombre in liste_gauss:\n",
    "    histogramme_gauss[nombre] += 1\n",
    "\n",
    "pyplot.bar(range(maximum+1), histogramme_gauss, color='blue', edgecolor='black')\n",
    "pyplot.xlabel(\"Valeurs\")\n",
    "pyplot.ylabel"
   ]
  }
 ],
 "metadata": {
  "kernelspec": {
   "display_name": "Python 3",
   "language": "python",
   "name": "python3"
  },
  "language_info": {
   "codemirror_mode": {
    "name": "ipython",
    "version": 3
   },
   "file_extension": ".py",
   "mimetype": "text/x-python",
   "name": "python",
   "nbconvert_exporter": "python",
   "pygments_lexer": "ipython3",
   "version": "3.12.3"
  }
 },
 "nbformat": 4,
 "nbformat_minor": 2
}
