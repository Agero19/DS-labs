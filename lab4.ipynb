{
 "cells": [
  {
   "cell_type": "markdown",
   "metadata": {},
   "source": [
    "# Matrice Fourier"
   ]
  },
  {
   "cell_type": "code",
   "execution_count": null,
   "metadata": {},
   "outputs": [
    {
     "name": "stdout",
     "output_type": "stream",
     "text": [
      " 1  1  1  1\n",
      " 1 -i -1  i\n",
      " 1 -1  1 -1\n",
      " 1  i -1 -i\n"
     ]
    }
   ],
   "source": [
    "import numpy as np\n",
    "\n",
    "\n",
    "def W(N):\n",
    "    w = np.outer(np.arange(N), np.arange(N))  \n",
    "    W_matrix = np.exp(-2j * np.pi * w / N)  \n",
    "    return W_matrix\n",
    "\n",
    "\n",
    "def format_W_matrix(W):\n",
    "    def simplify(c):\n",
    "        if abs(c.real) < 1e-10:\n",
    "            if abs(c.imag - 1) < 1e-10:\n",
    "                return \" i\"\n",
    "            elif abs(c.imag + 1) < 1e-10:\n",
    "                return \"-i\"\n",
    "            elif abs(c.imag) < 1e-10:\n",
    "                return 0\n",
    "        elif abs(c.real - 1) < 1e-10:\n",
    "            return \" 1\"\n",
    "        elif abs(c.real + 1) < 1e-10:\n",
    "            return \"-1\"\n",
    "        return str(c)\n",
    "\n",
    "    return [[simplify(W[n, m]) for m in range(W.shape[1])] for n in range(W.shape[0])]\n",
    "\n",
    "def afficher_matrice(matrice):\n",
    "    for ligne in matrice:\n",
    "        print(\" \".join(f\"{val:2}\" for val in ligne))\n",
    "\n",
    "# Example usage\n",
    "W_matrix = W(4)\n",
    "afficher_matrice(format_W_matrix(W_matrix))\n"
   ]
  },
  {
   "cell_type": "markdown",
   "metadata": {},
   "source": [
    "Generer signal"
   ]
  },
  {
   "cell_type": "code",
   "execution_count": 14,
   "metadata": {},
   "outputs": [],
   "source": [
    "from math import sin, pi\n",
    "def generate_signal(f, N):\n",
    "    return [sin(2 * pi * f * k) for k in range(N)]\n"
   ]
  },
  {
   "cell_type": "markdown",
   "metadata": {},
   "source": [
    "Multiplier puis calculer le temps d'execution"
   ]
  },
  {
   "cell_type": "code",
   "execution_count": 32,
   "metadata": {},
   "outputs": [
    {
     "name": "stdout",
     "output_type": "stream",
     "text": [
      "DFT resultat pour f=0.13:\n",
      "\n",
      " [ 1.19497725  1.22883374  1.33548969  1.53317441  1.86494895  2.43355937\n",
      "  3.52728289  6.3185852  26.66609134 12.86721227  5.34707308  3.44366296\n",
      "  2.57747645  2.08338084  1.76479359  1.5429317   1.38009739  1.2559993\n",
      "  1.15875486  1.0809502   1.01772567  0.96576848  0.92274787  0.8869818\n",
      "  0.85723174  0.83257175  0.81230245  0.79589327  0.78294282  0.77315155\n",
      "  0.76630284  0.76225008  0.76090842  0.76225008  0.76630284  0.77315155\n",
      "  0.78294282  0.79589327  0.81230245  0.83257175  0.85723174  0.8869818\n",
      "  0.92274787  0.96576848  1.01772567  1.0809502   1.15875486  1.2559993\n",
      "  1.38009739  1.5429317   1.76479359  2.08338084  2.57747645  3.44366296\n",
      "  5.34707308 12.86721227 26.66609134  6.3185852   3.52728289  2.43355937\n",
      "  1.86494895  1.53317441  1.33548969  1.22883374]\n",
      "\n",
      "DFT resultat pour f=0.135:\n",
      "\n",
      " [2.19850269e+00 2.22752741e+00 2.31952209e+00 2.49149664e+00\n",
      " 2.78144245e+00 3.27419991e+00 4.18778431e+00 6.27702128e+00\n",
      " 1.50234667e+01 2.50090329e+01 6.21134817e+00 3.36365721e+00\n",
      " 2.22262020e+00 1.61247710e+00 1.23508537e+00 9.79933673e-01\n",
      " 7.96651481e-01 6.59023478e-01 5.52074538e-01 4.66636360e-01\n",
      " 3.96785109e-01 3.38523756e-01 2.89056768e-01 2.46368270e-01\n",
      " 2.08965368e-01 1.75716146e-01 1.45744696e-01 1.18362940e-01\n",
      " 9.30303909e-02 6.93473883e-02 4.71373442e-02 2.70273542e-02\n",
      " 1.55939813e-02 2.70273542e-02 4.71373442e-02 6.93473883e-02\n",
      " 9.30303909e-02 1.18362940e-01 1.45744696e-01 1.75716146e-01\n",
      " 2.08965368e-01 2.46368270e-01 2.89056768e-01 3.38523756e-01\n",
      " 3.96785109e-01 4.66636360e-01 5.52074538e-01 6.59023478e-01\n",
      " 7.96651481e-01 9.79933673e-01 1.23508537e+00 1.61247710e+00\n",
      " 2.22262020e+00 3.36365721e+00 6.21134817e+00 2.50090329e+01\n",
      " 1.50234667e+01 6.27702128e+00 4.18778431e+00 3.27419991e+00\n",
      " 2.78144245e+00 2.49149664e+00 2.31952209e+00 2.22752741e+00]\n",
      "\n",
      "\n",
      "NumPy temp de calculs: 0.12556 sec\n",
      "\n",
      "TP-3 temp de calculs: 0.82497 sec\n"
     ]
    }
   ],
   "source": [
    "import timeit\n",
    "import cmath\n",
    "\n",
    "# OLD CODE - TP3\n",
    "\n",
    "def generate_signal_old(f, N):\n",
    "    return [sin(2 * pi * f * k) for k in range(N)]\n",
    "\n",
    "\n",
    "def compute_f_matrix(N):\n",
    "    return [[cmath.exp(-2j * pi * n * m / N) for m in range(N)] for n in range(N)]\n",
    "\n",
    "\n",
    "def multiplication_vecteur(matrice, vecteur):\n",
    "    return [\n",
    "        sum(matrice[i][j] * vecteur[j] for j in range(len(vecteur)))\n",
    "        for i in range(len(matrice))\n",
    "    ]\n",
    "\n",
    "\n",
    "def apply_fourier_transform(signal):\n",
    "    N = len(signal)\n",
    "    W = compute_f_matrix(N)\n",
    "    return [abs(x) for x in multiplication_vecteur(W, signal)]\n",
    "\n",
    "\n",
    "# NEW CODE - TP4 EX 2\n",
    "\n",
    "def compute_dft(signal):\n",
    "    N = len(signal)\n",
    "    W_matrix = W(N)\n",
    "    dft_result = np.dot(W_matrix, signal)  # multiplication\n",
    "    return np.abs(dft_result)\n",
    "\n",
    "\n",
    "N = 64  # size\n",
    "frequencies = [0.13, 0.135]\n",
    "for f in frequencies:\n",
    "    signal = generate_signal(f, N)\n",
    "    dft_result = compute_dft(signal)\n",
    "    print(f\"DFT resultat pour f={f}:\\n\\n {dft_result}\\n\")\n",
    "\n",
    "# Time \n",
    "setup_code = \"\"\"\n",
    "import numpy as np\n",
    "from math import sin, pi\n",
    "from __main__ import generate_signal, compute_dft, W\n",
    "\n",
    "N = 64\n",
    "f = 0.13\n",
    "signal = generate_signal(f, N)\n",
    "dft_res = compute_dft(signal)\n",
    "\"\"\"\n",
    "\n",
    "setup_code_old = \"\"\"\n",
    "import numpy as np\n",
    "from math import sin, pi\n",
    "from __main__ import generate_signal_old, multiplication_vecteur, apply_fourier_transform, compute_f_matrix\n",
    "\n",
    "N = 64\n",
    "f = 0.13\n",
    "\n",
    "signal = generate_signal_old(f,N)\n",
    "test = apply_fourier_transform(signal)\n",
    "\"\"\"\n",
    "time_numpy = timeit.timeit(\n",
    "    \"compute_dft(signal)\", \n",
    "    setup=setup_code, \n",
    "    number=1000\n",
    ")\n",
    "time_old = timeit.timeit(\n",
    "    \"apply_fourier_transform(signal)\", \n",
    "    setup=setup_code_old, \n",
    "    number=1000\n",
    ")\n",
    "print(f\"\\nNumPy temp de calculs: {time_numpy:.5f} sec\\n\")\n",
    "print(f\"TP-3 temp de calculs: {time_old:.5f} sec\")\n"
   ]
  },
  {
   "cell_type": "code",
   "execution_count": null,
   "metadata": {},
   "outputs": [
    {
     "name": "stdout",
     "output_type": "stream",
     "text": [
      "Comparer DFT et FFT pour N=64:\n",
      "Freq f=0.13: Difference maximale = 1.67e-13\n",
      "Freq f=0.135: Difference maximale = 1.81e-13\n",
      "\n",
      "Comparaison en temp:\n",
      "\n",
      "N = 64:\n",
      "  DFT (100 appels): 0.02163 sec\n",
      "  FFT (100 appels): 0.00111 sec\n",
      "  FFT est 20 fois plus rapide\n",
      "\n",
      "N = 256:\n",
      "  DFT (100 appels): 0.13029 sec\n",
      "  FFT (100 appels): 0.00138 sec\n",
      "  FFT est 94 fois plus rapide\n",
      "\n",
      "N = 1024:\n",
      "  DFT (10 appels): 0.21859 sec\n",
      "  FFT (10 appels): 0.00038 sec\n",
      "  FFT est 570 fois plus rapide\n"
     ]
    }
   ],
   "source": [
    "# Parametres\n",
    "N_values = [64, 256, 1024]  # longeur different\n",
    "frequencies = [0.13, 0.135]  # Frequences different\n",
    "\n",
    "\n",
    "N = 64\n",
    "print(\"Comparer DFT et FFT pour N=64:\")\n",
    "for f in frequencies:\n",
    "    signal = generate_signal(f, N)\n",
    "    dft_result = compute_dft(signal)\n",
    "    fft_result = np.abs(np.fft.fft(signal))\n",
    "    max_diff = np.max(np.abs(dft_result - fft_result))\n",
    "    print(f\"Freq f={f}: Difference maximale = {max_diff:.2e}\")\n",
    "\n",
    "# Comparer en temp pour diff longeurs\n",
    "print(\"\\nComparaison en temp:\")\n",
    "for N in N_values:\n",
    "    setup_code = f\"\"\"\n",
    "import numpy as np\n",
    "from math import sin, pi\n",
    "from __main__ import generate_signal, compute_dft\n",
    "\n",
    "N = {N}\n",
    "f = 0.13\n",
    "signal = generate_signal(f, N)\n",
    "\"\"\"\n",
    "    number = 100 if N <= 256 else 10\n",
    "    time_dft = timeit.timeit(\"compute_dft(signal)\", setup=setup_code, number=number)\n",
    "    time_fft = timeit.timeit(\n",
    "        \"np.abs(np.fft.fft(signal))\", setup=setup_code, number=number\n",
    "    )\n",
    "\n",
    "    print(f\"\\nN = {N}:\")\n",
    "    print(f\"  DFT ({number} appels): {time_dft:.5f} sec\")\n",
    "    print(f\"  FFT ({number} appels): {time_fft:.5f} sec\")\n",
    "    print(f\"  FFT est {time_dft / time_fft:.0f} fois plus rapide\")\n"
   ]
  },
  {
   "cell_type": "markdown",
   "metadata": {},
   "source": [
    "EX4"
   ]
  },
  {
   "cell_type": "code",
   "execution_count": null,
   "metadata": {},
   "outputs": [
    {
     "data": {
      "image/png": "[encoded data removed]",
      "text/plain": [
       "<Figure size 1000x600 with 1 Axes>"
      ]
     },
     "metadata": {},
     "output_type": "display_data"
    }
   ],
   "source": [
    "import numpy as np\n",
    "import matplotlib.pyplot as plt\n",
    "\n",
    "N :int = int(input(\"Entrez n de coefficients: \"))\n",
    "\n",
    "T = 2 * np.pi\n",
    "\n",
    "t = np.linspace(-T, T, 1000)\n",
    "\n",
    "original_signal = np.sign(np.sin(t))  \n",
    "approximation = np.zeros_like(t)\n",
    "\n",
    "for k in range(1, N + 1):\n",
    "    coefficient = 4 / (np.pi * (2 * k - 1))\n",
    "    harmonic = np.sin((2 * k - 1) * t)\n",
    "    approximation += coefficient * harmonic\n",
    "\n",
    "plt.figure(figsize=(10, 6))\n",
    "plt.plot(t, original_signal, label=\"Signal Rectangulaire Originale\", linestyle=\"--\", alpha=0.7)\n",
    "plt.plot(t, approximation, label=f\"Approximation Fourier (N={N})\", color=\"red\")\n",
    "plt.title(\"Approximation de la Signal Rectangulaire\")\n",
    "plt.xlabel(\"Temps [s]\")\n",
    "plt.ylabel(\"Amplitude [-]\")\n",
    "plt.grid(True)\n",
    "plt.legend()\n",
    "plt.show()\n"
   ]
  },
  {
   "cell_type": "code",
   "execution_count": null,
   "metadata": {},
   "outputs": [],
   "source": []
  }
 ],
 "metadata": {
  "kernelspec": {
   "display_name": "Python 3",
   "language": "python",
   "name": "python3"
  },
  "language_info": {
   "codemirror_mode": {
    "name": "ipython",
    "version": 3
   },
   "file_extension": ".py",
   "mimetype": "text/x-python",
   "name": "python",
   "nbconvert_exporter": "python",
   "pygments_lexer": "ipython3",
   "version": "3.12.3"
  }
 },
 "nbformat": 4,
 "nbformat_minor": 2
}
