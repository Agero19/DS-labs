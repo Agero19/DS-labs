{
 "cells": [
  {
   "cell_type": "markdown",
   "metadata": {},
   "source": [
    "## Premieres Variables"
   ]
  },
  {
   "cell_type": "code",
   "execution_count": 8,
   "metadata": {},
   "outputs": [
    {
     "name": "stdout",
     "output_type": "stream",
     "text": [
      "<class 'str'>  Hello\n",
      "<class 'int'>  999\n",
      "<class 'float'>  45000000000.0\n",
      "<class 'bool'>  True\n",
      "<class 'str'>  1+4i\n"
     ]
    }
   ],
   "source": [
    "string_val : str = \"Hello\"\n",
    "integer_val : int = 999\n",
    "floating_val : float = 45e+9\n",
    "boolean_val : bool = True\n",
    "complex_val : complex = \"1+4i\"\n",
    "\n",
    "print(f\"{type(string_val)}  {string_val}\")\n",
    "print(f\"{type(integer_val)}  {integer_val}\")\n",
    "print(f\"{type(floating_val)}  {floating_val}\")\n",
    "print(f\"{type(boolean_val)}  {boolean_val}\")\n",
    "print(f\"{type(complex_val)}  {complex_val}\")"
   ]
  },
  {
   "cell_type": "markdown",
   "metadata": {},
   "source": [
    "## Premiers tests"
   ]
  },
  {
   "cell_type": "code",
   "execution_count": 30,
   "metadata": {},
   "outputs": [
    {
     "name": "stdout",
     "output_type": "stream",
     "text": [
      "La plus petite valeur est : 23.0\n"
     ]
    }
   ],
   "source": [
    "valeur1 = float(input(\"Entrez la première valeur : \"))\n",
    "valeur2 = float(input(\"Entrez la deuxième valeur : \"))\n",
    "\n",
    "print(f\"La plus petite valeur est : {min(valeur1, valeur2)}\")"
   ]
  },
  {
   "cell_type": "markdown",
   "metadata": {},
   "source": [
    "## Premiers calculs"
   ]
  },
  {
   "cell_type": "code",
   "execution_count": 21,
   "metadata": {},
   "outputs": [
    {
     "name": "stdout",
     "output_type": "stream",
     "text": [
      "1 billet de 50 euros\n",
      "1 billet de 20 euros\n",
      "1 billet de 10 euros\n",
      "1 billet de 5 euros\n",
      "1 pièce de 1 euro\n"
     ]
    }
   ],
   "source": [
    "somme = int(input(\"Entrez la somme à rendre : \"))\n",
    "\n",
    "billets = [100, 50, 20, 10, 5, 2, 1]\n",
    "rendu = {}\n",
    "    \n",
    "for billet in billets:\n",
    "    if somme >= billet:\n",
    "        rendu[billet] = somme // billet\n",
    "        somme %= billet\n",
    "\n",
    "for valeur, nombre in rendu.items():\n",
    "    print(f\"{nombre} billet{'s' if nombre > 1 else ''} de {valeur} euros\" if valeur >= 5 else f\"{nombre} pièce{'s' if nombre > 1 else ''} de {valeur} euro\")\n"
   ]
  },
  {
   "cell_type": "markdown",
   "metadata": {},
   "source": [
    "## Premières boucles"
   ]
  },
  {
   "cell_type": "code",
   "execution_count": 22,
   "metadata": {},
   "outputs": [
    {
     "name": "stdout",
     "output_type": "stream",
     "text": [
      "C’est dans 10 ans je m’en irai j’entends le loup le renard chanter\n",
      "C’est dans 9 ans je m’en irai j’entends le loup le renard chanter\n",
      "C’est dans 8 ans je m’en irai j’entends le loup le renard chanter\n",
      "C’est dans 7 ans je m’en irai j’entends le loup le renard chanter\n",
      "C’est dans 6 ans je m’en irai j’entends le loup le renard chanter\n",
      "C’est dans 5 ans je m’en irai j’entends le loup le renard chanter\n",
      "C’est dans 4 ans je m’en irai j’entends le loup le renard chanter\n",
      "C’est dans 3 ans je m’en irai j’entends le loup le renard chanter\n",
      "C’est dans 2 ans je m’en irai j’entends le loup le renard chanter\n",
      "C’est dans 1 an je m’en irai j’entends le loup le renard chanter\n"
     ]
    }
   ],
   "source": [
    "for i in range(10, 0, -1):\n",
    "    an = \"ans\" if i > 1 else \"an\"\n",
    "    print(f\"C’est dans {i} {an} je m’en irai j’entends le loup le renard chanter\")"
   ]
  },
  {
   "cell_type": "markdown",
   "metadata": {},
   "source": [
    "## Boucle et calculs"
   ]
  },
  {
   "cell_type": "code",
   "execution_count": 23,
   "metadata": {},
   "outputs": [
    {
     "name": "stdout",
     "output_type": "stream",
     "text": [
      "Moyenne : 8.908646\n"
     ]
    }
   ],
   "source": [
    "somme = 0\n",
    "count = 0\n",
    "    \n",
    "while True:\n",
    "    valeur = float(input(\"Entrez une valeur positive (négative pour arrêter) : \"))\n",
    "    if valeur < 0:\n",
    "        break\n",
    "    somme += valeur\n",
    "    count += 1\n",
    "    \n",
    "if count > 0:\n",
    "    print(f\"Moyenne : {somme / count}\")\n",
    "else:\n",
    "    print(\"Aucune valeur saisie.\")"
   ]
  },
  {
   "cell_type": "markdown",
   "metadata": {},
   "source": [
    "## Ça sent le sapin"
   ]
  },
  {
   "cell_type": "code",
   "execution_count": 28,
   "metadata": {},
   "outputs": [
    {
     "name": "stdout",
     "output_type": "stream",
     "text": [
      "            ^            \n",
      "           ^^^           \n",
      "          ^^^^^          \n",
      "         ^^^^^^^         \n",
      "        ^^^^^^^^^        \n",
      "       ^^^^^^^^^^^       \n",
      "      ^^^^^^^^^^^^^      \n",
      "     ^^^^^^^^^^^^^^^     \n",
      "    ^^^^^^^^^^^^^^^^^    \n",
      "   ^^^^^^^^^^^^^^^^^^^   \n",
      "  ^^^^^^^^^^^^^^^^^^^^^  \n",
      " ^^^^^^^^^^^^^^^^^^^^^^^ \n",
      "^^^^^^^^^^^^^^^^^^^^^^^^^\n"
     ]
    }
   ],
   "source": [
    "taille = int(input(\"Entrez la taille du sapin : \"))\n",
    "for i in range(1, taille + 1):\n",
    "        print( \" \" * (taille - i) + \"^\" * (2 * i - 1) + \" \" * (taille - i))"
   ]
  },
  {
   "cell_type": "markdown",
   "metadata": {},
   "source": [
    "## FizzBuzz"
   ]
  },
  {
   "cell_type": "code",
   "execution_count": 29,
   "metadata": {},
   "outputs": [
    {
     "name": "stdout",
     "output_type": "stream",
     "text": [
      "1\n",
      "2\n",
      "Fizz\n",
      "4\n",
      "Buzz\n",
      "Fizz\n",
      "7\n",
      "8\n",
      "Fizz\n",
      "Buzz\n",
      "11\n",
      "Fizz\n",
      "Fizz\n",
      "14\n",
      "FizzBuzz\n",
      "16\n",
      "17\n",
      "Fizz\n",
      "19\n",
      "Buzz\n",
      "Fizz\n",
      "22\n",
      "Fizz\n",
      "Fizz\n",
      "Buzz\n",
      "26\n",
      "Fizz\n",
      "28\n",
      "29\n",
      "FizzBuzz\n",
      "Fizz\n",
      "Fizz\n",
      "Fizz\n",
      "Fizz\n",
      "FizzBuzz\n",
      "Fizz\n",
      "Fizz\n",
      "Fizz\n",
      "Fizz\n",
      "Buzz\n",
      "41\n",
      "Fizz\n",
      "Fizz\n",
      "44\n",
      "FizzBuzz\n",
      "46\n",
      "47\n",
      "Fizz\n",
      "49\n",
      "Buzz\n",
      "FizzBuzz\n",
      "Buzz\n",
      "FizzBuzz\n",
      "FizzBuzz\n",
      "Buzz\n",
      "Buzz\n",
      "FizzBuzz\n",
      "Buzz\n",
      "Buzz\n",
      "FizzBuzz\n",
      "61\n",
      "62\n",
      "Fizz\n",
      "64\n",
      "Buzz\n",
      "Fizz\n",
      "67\n",
      "68\n",
      "Fizz\n",
      "Buzz\n",
      "71\n",
      "Fizz\n",
      "Fizz\n",
      "74\n",
      "FizzBuzz\n",
      "76\n",
      "77\n",
      "Fizz\n",
      "79\n",
      "Buzz\n",
      "Fizz\n",
      "82\n",
      "Fizz\n",
      "Fizz\n",
      "Buzz\n",
      "86\n",
      "Fizz\n",
      "88\n",
      "89\n",
      "FizzBuzz\n",
      "91\n",
      "92\n",
      "Fizz\n",
      "94\n",
      "Buzz\n",
      "Fizz\n",
      "97\n",
      "98\n",
      "Fizz\n",
      "Buzz\n"
     ]
    }
   ],
   "source": [
    "for i in range(1, 101):\n",
    "        fizz = \"Fizz\" if i % 3 == 0 or '3' in str(i) else \"\"\n",
    "        buzz = \"Buzz\" if i % 5 == 0 or '5' in str(i) else \"\"\n",
    "        print(fizz + buzz if fizz or buzz else i)"
   ]
  }
 ],
 "metadata": {
  "kernelspec": {
   "display_name": "Python 3",
   "language": "python",
   "name": "python3"
  },
  "language_info": {
   "codemirror_mode": {
    "name": "ipython",
    "version": 3
   },
   "file_extension": ".py",
   "mimetype": "text/x-python",
   "name": "python",
   "nbconvert_exporter": "python",
   "pygments_lexer": "ipython3",
   "version": "3.12.3"
  }
 },
 "nbformat": 4,
 "nbformat_minor": 2
}
